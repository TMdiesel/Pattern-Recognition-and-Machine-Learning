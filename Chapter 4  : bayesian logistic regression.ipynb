{
 "cells": [
  {
   "cell_type": "markdown",
   "metadata": {},
   "source": [
    "# Classification"
   ]
  },
  {
   "cell_type": "code",
   "execution_count": 1,
   "metadata": {},
   "outputs": [],
   "source": [
    "import numpy as np\n",
    "import matplotlib.pyplot as plt\n",
    "from sklearn.linear_model import LogisticRegression\n",
    "from matplotlib.colors import ListedColormap\n",
    "%matplotlib inline"
   ]
  },
  {
   "cell_type": "markdown",
   "metadata": {},
   "source": [
    "## Generating data set"
   ]
  },
  {
   "cell_type": "code",
   "execution_count": 2,
   "metadata": {},
   "outputs": [
    {
     "data": {
      "image/png": "[encoded data removed]",
      "text/plain": [
       "<Figure size 432x288 with 1 Axes>"
      ]
     },
     "metadata": {
      "needs_background": "light"
     },
     "output_type": "display_data"
    }
   ],
   "source": [
    "center=[[1,1],[-1,-1]]\n",
    "data_size=50\n",
    "data=[c+np.random.randn(data_size,2)*0.5 for c in center]\n",
    "data=np.concatenate(data)\n",
    "label = np.arange(2*data_size)//data_size\n",
    "markers = ('s', 'x', 'o', '^', 'v')\n",
    "colors = ('red', 'blue', 'lightgreen', 'gray', 'cyan')\n",
    "for i in range(2):\n",
    "    plt.scatter(data[:,0][label==i],data[:,1][label==i],alpha=0.8,label=i,edgecolor='black',c=colors[i],marker=markers[i])\n",
    "plt.legend();"
   ]
  },
  {
   "cell_type": "markdown",
   "metadata": {},
   "source": [
    "## Function for visualization "
   ]
  },
  {
   "cell_type": "code",
   "execution_count": 3,
   "metadata": {},
   "outputs": [],
   "source": [
    "def plot_decision_regions(X, y, classifier, test_idx=None, resolution=0.05):\n",
    "\n",
    "    # setup marker generator and color map\n",
    "    markers = ('s', 'x', 'o', '^', 'v')\n",
    "    colors = ('red', 'blue', 'lightgreen', 'gray', 'cyan')\n",
    "    cmap = ListedColormap(colors[:len(np.unique(y))])\n",
    "\n",
    "    # plot the decision surface\n",
    "    x1_min, x1_max = X[:, 0].min() - 1, X[:, 0].max() + 1\n",
    "    x2_min, x2_max = X[:, 1].min() - 1, X[:, 1].max() + 1\n",
    "    xx1, xx2 = np.meshgrid(np.arange(x1_min, x1_max, resolution),\n",
    "                           np.arange(x2_min, x2_max, resolution))\n",
    "    Z = classifier.predict(np.array([xx1.ravel(), xx2.ravel()]).T)\n",
    "    Z = Z.reshape(xx1.shape)\n",
    "    plt.contourf(xx1, xx2, Z, alpha=0.3, cmap=cmap)\n",
    "    plt.xlim(xx1.min(), xx1.max())\n",
    "    plt.ylim(xx2.min(), xx2.max())\n",
    "\n",
    "    for idx, cl in enumerate(np.unique(y)):\n",
    "        plt.scatter(x=X[y == cl, 0], \n",
    "                    y=X[y == cl, 1],\n",
    "                    alpha=0.8, \n",
    "                    c=colors[idx],\n",
    "                    marker=markers[idx], \n",
    "                    label=cl, \n",
    "                    edgecolor='black')\n",
    "    plt.legend()\n",
    "    # highlight test samples\n",
    "    if test_idx:\n",
    "        # plot all samples\n",
    "        X_test, y_test = X[test_idx, :], y[test_idx]\n",
    "\n",
    "        plt.scatter(X_test[:, 0],\n",
    "                    X_test[:, 1],\n",
    "                    c='',\n",
    "                    edgecolor='black',\n",
    "                    alpha=1.0,\n",
    "                    linewidth=1,\n",
    "                    marker='o',\n",
    "                    s=100, \n",
    "                    label='test set')"
   ]
  },
  {
   "cell_type": "markdown",
   "metadata": {},
   "source": [
    "## Logistic regression using scikit learn"
   ]
  },
  {
   "cell_type": "code",
   "execution_count": 4,
   "metadata": {},
   "outputs": [
    {
     "name": "stderr",
     "output_type": "stream",
     "text": [
      "C:\\Users\\takuya2262\\Anaconda3\\lib\\site-packages\\sklearn\\linear_model\\logistic.py:433: FutureWarning: Default solver will be changed to 'lbfgs' in 0.22. Specify a solver to silence this warning.\n",
      "  FutureWarning)\n"
     ]
    },
    {
     "data": {
      "image/png": "[encoded data removed]",
      "text/plain": [
       "<Figure size 432x288 with 1 Axes>"
      ]
     },
     "metadata": {
      "needs_background": "light"
     },
     "output_type": "display_data"
    }
   ],
   "source": [
    "lr=LogisticRegression(C=100.0,random_state=1)\n",
    "lr.fit(data,label)\n",
    "plot_decision_regions(data,label,classifier=lr)"
   ]
  },
  {
   "cell_type": "markdown",
   "metadata": {},
   "source": [
    "## Bayesian logistic regression"
   ]
  },
  {
   "cell_type": "code",
   "execution_count": 5,
   "metadata": {},
   "outputs": [],
   "source": [
    "class BayesianLogisticRegression:\n",
    "    def __init__(self,M,s,mu,max_iter=100,alpha=1):\n",
    "        self.M=M   #number of basis functions\n",
    "        self.s=s   #standard deviation of basis functions\n",
    "        self.mu=mu #average of basis functions\n",
    "        self.max_iter=max_iter\n",
    "        self.alpha=alpha\n",
    "    def gauss(self,x,mu):\n",
    "        return np.exp(-(x-mu).T@np.linalg.inv(self.s)@(x-mu)/2)\n",
    "    def gauss_vec(self,x,mu):\n",
    "        gauss=[]\n",
    "        for i in range(len(mu)):\n",
    "            gauss.append(np.exp(-(x-mu[i]).T@np.linalg.inv(self.s)@(x-mu[i])/2))\n",
    "        return gauss\n",
    "    def design_matrix(self,X):\n",
    "        gauss_function=np.zeros((len(X),self.M))\n",
    "        for j in range(self.M):\n",
    "            for i in range(len(X)):\n",
    "                gauss_function[i,j]=self.gauss(X[i],self.mu[j])\n",
    "        return gauss_function\n",
    "    def sigmoid(self,x):\n",
    "        return np.divide(1,1+np.exp(-x))\n",
    "    def fit(self,X,t):\n",
    "        Phi=self.design_matrix(X)\n",
    "        self.w=np.random.randn(self.M)\n",
    "        for i in range(self.max_iter):\n",
    "            w_tmp=np.copy(self.w)\n",
    "            y=self.predict_proba(X)\n",
    "            gradE=Phi.T@(y-t)+self.alpha*self.w\n",
    "            H=Phi.T@np.diag(y*(1-y))@Phi+self.alpha*np.identity(len(self.w))\n",
    "            try:\n",
    "                self.w=self.w-np.linalg.inv(H)@gradE\n",
    "            except np.linalg.LinAlgError:\n",
    "                break\n",
    "            if np.allclose(self.w,w_tmp):\n",
    "                break\n",
    "        print('iteration number',i)\n",
    "        y=self.predict_proba(X)\n",
    "        gradE=Phi.T@(y-t)+self.alpha*self.w\n",
    "        H=Phi.T@np.diag(y*(1-y))@Phi+self.alpha*np.identity(len(self.w))\n",
    "        self.SN=np.linalg.inv(H)\n",
    "        return self\n",
    "    def predict_dist(self,X):\n",
    "        Phi=self.design_matrix(X)\n",
    "        mu_a=Phi.dot(self.w)\n",
    "        sigma_a=np.sum(Phi.dot(self.SN) * Phi, axis=1)\n",
    "        return self.sigmoid(mu_a / np.sqrt(1 + np.pi * sigma_a / 8))\n",
    "    def predict_proba(self,X):\n",
    "        Phi=self.design_matrix(X)\n",
    "        y_vec=[]\n",
    "        for j in range(len(X)):\n",
    "            y=self.sigmoid(self.w@self.gauss_vec(X[j],self.mu))\n",
    "            y_vec.append(y)\n",
    "        return np.array(y_vec)\n",
    "    def predict(self, X):\n",
    "        return (self.predict_proba(X) > 0.5).astype(np.int)\n",
    "        "
   ]
  },
  {
   "cell_type": "code",
   "execution_count": 6,
   "metadata": {},
   "outputs": [
    {
     "name": "stdout",
     "output_type": "stream",
     "text": [
      "iteration number 6\n"
     ]
    }
   ],
   "source": [
    "s=[[4,0],[0,4]]\n",
    "mu=[[-1,-1],[1,1],[-1,1],[1,-1]]\n",
    "M=len(mu)\n",
    "blr=BayesianLogisticRegression(M,s,mu)\n",
    "blr.fit(data,label)\n",
    "label_test=blr.predict(data)"
   ]
  },
  {
   "cell_type": "code",
   "execution_count": 7,
   "metadata": {},
   "outputs": [],
   "source": [
    "def plot_decision_regions_prob(X, y, classifier, test_idx=None, resolution=0.05):\n",
    "\n",
    "    # setup marker generator and color map\n",
    "    markers = ('s', 'x', 'o', '^', 'v')\n",
    "    colors = ('red', 'blue', 'lightgreen', 'gray', 'cyan')\n",
    "    cmap = ListedColormap(colors[:len(np.unique(y))])\n",
    "\n",
    "    # plot the decision surface\n",
    "    x1_min, x1_max = X[:, 0].min() - 1, X[:, 0].max() + 1\n",
    "    x2_min, x2_max = X[:, 1].min() - 1, X[:, 1].max() + 1\n",
    "    xx1, xx2 = np.meshgrid(np.arange(x1_min, x1_max, resolution),\n",
    "                           np.arange(x2_min, x2_max, resolution))\n",
    "    Z = classifier.predict_dist(np.array([xx1.ravel(), xx2.ravel()]).T)\n",
    "    Z = Z.reshape(xx1.shape)\n",
    "    plt.contourf(xx1, xx2, Z, alpha=0.3,levels=np.linspace(0,1,5),cmap=\"bwr_r\")\n",
    "    plt.xlim(xx1.min(), xx1.max())\n",
    "    plt.ylim(xx2.min(), xx2.max())\n",
    "    plt.colorbar()\n",
    "    for idx, cl in enumerate(np.unique(y)):\n",
    "        plt.scatter(x=X[y == cl, 0], \n",
    "                    y=X[y == cl, 1],\n",
    "                    alpha=0.8, \n",
    "                    c=colors[idx],\n",
    "                    marker=markers[idx], \n",
    "                    label=cl, \n",
    "                    edgecolor='black')\n",
    "    plt.legend()\n",
    "    plt.title('Predictive distribution')\n",
    "  "
   ]
  },
  {
   "cell_type": "code",
   "execution_count": 8,
   "metadata": {},
   "outputs": [
    {
     "data": {
      "image/png": "[encoded data removed]",
      "text/plain": [
       "<Figure size 432x288 with 2 Axes>"
      ]
     },
     "metadata": {
      "needs_background": "light"
     },
     "output_type": "display_data"
    }
   ],
   "source": [
    "plot_decision_regions_prob(data,label,classifier=blr)"
   ]
  },
  {
   "cell_type": "code",
   "execution_count": null,
   "metadata": {},
   "outputs": [],
   "source": []
  },
  {
   "cell_type": "code",
   "execution_count": null,
   "metadata": {},
   "outputs": [],
   "source": []
  }
 ],
 "metadata": {
  "kernelspec": {
   "display_name": "Python 3",
   "language": "python",
   "name": "python3"
  },
  "language_info": {
   "codemirror_mode": {
    "name": "ipython",
    "version": 3
   },
   "file_extension": ".py",
   "mimetype": "text/x-python",
   "name": "python",
   "nbconvert_exporter": "python",
   "pygments_lexer": "ipython3",
   "version": "3.7.1"
  }
 },
 "nbformat": 4,
 "nbformat_minor": 2
}
